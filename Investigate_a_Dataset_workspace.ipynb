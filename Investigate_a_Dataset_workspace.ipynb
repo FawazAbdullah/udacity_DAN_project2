{
 "cells": [
  {
   "cell_type": "markdown",
   "metadata": {},
   "source": [
    "# Project 2: Movies Data Analysis\n",
    "\n",
    "## Table of Contents\n",
    "<ul>\n",
    "<li><a href=\"#intro\">Introduction</a></li>\n",
    "<li><a href=\"#wrangling\">Data Wrangling</a></li>\n",
    "<li><a href=\"#eda\">Exploratory Data Analysis</a></li>\n",
    "<li><a href=\"#conclusions\">Conclusions</a></li>\n",
    "</ul>"
   ]
  },
  {
   "cell_type": "markdown",
   "metadata": {},
   "source": [
    "<a id='intro'></a>\n",
    "## Introduction\n",
    "\n",
    "> In this project we will analysis movies data.\n",
    "\n",
    "> in particular, we will be intrested in _Budget_, _Revenue_, _Vote Average_, _Release Year_ and _Release Date_, we have 4 research question that we will discusses during this project, \n",
    "\n",
    "> we choose the independent attribute's as:\n",
    "  <ul>\n",
    "  <li>Vote Average</li>\n",
    "  <li>Release Year</li>\n",
    "  <li>Release Date</li>\n",
    "  <li>Revenue</li>\n",
    "  </ul>\n",
    "  \n",
    "> we choose the dependent attribute's as:\n",
    "  <ul>\n",
    "  <li>Budget</li>\n",
    "  </ul>\n",
    "\n",
    "### Research Questions:\n",
    "  <ul>\n",
    "  <li><a href=\"#q1\">Does spending more Budget increase the chance of getting high Vote Average ?</a></li>\n",
    "  <li><a href=\"#q2\">Does the cost of producing a movie is getting higher over the years ? </a></li>\n",
    "  <li><a href=\"#q3\">Does the producing of movie is getting higher over the years ?</a></li>\n",
    "  <li><a href=\"#q4\">Does the summer movies gets more revenues than the other seasons movies in average ?</a></li>\n",
    "  </ul>"
   ]
  },
  {
   "cell_type": "code",
   "execution_count": 39,
   "metadata": {},
   "outputs": [],
   "source": [
    "# Frist importing the needed libraries\n",
    "import pandas as pd\n",
    "import numpy as np\n",
    "import matplotlib.pyplot as plt\n",
    "import seaborn as sns\n",
    "\n",
    "# for matplotlib, my jupyter version doesn't support the space for the magic function \n",
    "# keep sure to include the space if you need\n",
    "%matplotlib inline"
   ]
  },
  {
   "cell_type": "markdown",
   "metadata": {},
   "source": [
    "<a id='wrangling'></a>\n",
    "## Data Wrangling\n",
    "\n",
    "> In this section of the report, we will load in the data, check for cleanliness, and then trim and clean the dataset for analysis.\n",
    "\n",
    "### General Properties\n",
    "\n",
    "> Loading the data and printing out a few lines."
   ]
  },
  {
   "cell_type": "code",
   "execution_count": 40,
   "metadata": {
    "scrolled": true
   },
   "outputs": [
    {
     "data": {
      "text/html": [
       "<div>\n",
       "<style scoped>\n",
       "    .dataframe tbody tr th:only-of-type {\n",
       "        vertical-align: middle;\n",
       "    }\n",
       "\n",
       "    .dataframe tbody tr th {\n",
       "        vertical-align: top;\n",
       "    }\n",
       "\n",
       "    .dataframe thead th {\n",
       "        text-align: right;\n",
       "    }\n",
       "</style>\n",
       "<table border=\"1\" class=\"dataframe\">\n",
       "  <thead>\n",
       "    <tr style=\"text-align: right;\">\n",
       "      <th></th>\n",
       "      <th>id</th>\n",
       "      <th>imdb_id</th>\n",
       "      <th>popularity</th>\n",
       "      <th>budget</th>\n",
       "      <th>revenue</th>\n",
       "      <th>original_title</th>\n",
       "      <th>cast</th>\n",
       "      <th>homepage</th>\n",
       "      <th>director</th>\n",
       "      <th>tagline</th>\n",
       "      <th>...</th>\n",
       "      <th>overview</th>\n",
       "      <th>runtime</th>\n",
       "      <th>genres</th>\n",
       "      <th>production_companies</th>\n",
       "      <th>release_date</th>\n",
       "      <th>vote_count</th>\n",
       "      <th>vote_average</th>\n",
       "      <th>release_year</th>\n",
       "      <th>budget_adj</th>\n",
       "      <th>revenue_adj</th>\n",
       "    </tr>\n",
       "  </thead>\n",
       "  <tbody>\n",
       "    <tr>\n",
       "      <th>0</th>\n",
       "      <td>135397</td>\n",
       "      <td>tt0369610</td>\n",
       "      <td>32.985763</td>\n",
       "      <td>150000000</td>\n",
       "      <td>1513528810</td>\n",
       "      <td>Jurassic World</td>\n",
       "      <td>Chris Pratt|Bryce Dallas Howard|Irrfan Khan|Vi...</td>\n",
       "      <td>http://www.jurassicworld.com/</td>\n",
       "      <td>Colin Trevorrow</td>\n",
       "      <td>The park is open.</td>\n",
       "      <td>...</td>\n",
       "      <td>Twenty-two years after the events of Jurassic ...</td>\n",
       "      <td>124</td>\n",
       "      <td>Action|Adventure|Science Fiction|Thriller</td>\n",
       "      <td>Universal Studios|Amblin Entertainment|Legenda...</td>\n",
       "      <td>6/9/15</td>\n",
       "      <td>5562</td>\n",
       "      <td>6.5</td>\n",
       "      <td>2015</td>\n",
       "      <td>1.379999e+08</td>\n",
       "      <td>1.392446e+09</td>\n",
       "    </tr>\n",
       "    <tr>\n",
       "      <th>1</th>\n",
       "      <td>76341</td>\n",
       "      <td>tt1392190</td>\n",
       "      <td>28.419936</td>\n",
       "      <td>150000000</td>\n",
       "      <td>378436354</td>\n",
       "      <td>Mad Max: Fury Road</td>\n",
       "      <td>Tom Hardy|Charlize Theron|Hugh Keays-Byrne|Nic...</td>\n",
       "      <td>http://www.madmaxmovie.com/</td>\n",
       "      <td>George Miller</td>\n",
       "      <td>What a Lovely Day.</td>\n",
       "      <td>...</td>\n",
       "      <td>An apocalyptic story set in the furthest reach...</td>\n",
       "      <td>120</td>\n",
       "      <td>Action|Adventure|Science Fiction|Thriller</td>\n",
       "      <td>Village Roadshow Pictures|Kennedy Miller Produ...</td>\n",
       "      <td>5/13/15</td>\n",
       "      <td>6185</td>\n",
       "      <td>7.1</td>\n",
       "      <td>2015</td>\n",
       "      <td>1.379999e+08</td>\n",
       "      <td>3.481613e+08</td>\n",
       "    </tr>\n",
       "    <tr>\n",
       "      <th>2</th>\n",
       "      <td>262500</td>\n",
       "      <td>tt2908446</td>\n",
       "      <td>13.112507</td>\n",
       "      <td>110000000</td>\n",
       "      <td>295238201</td>\n",
       "      <td>Insurgent</td>\n",
       "      <td>Shailene Woodley|Theo James|Kate Winslet|Ansel...</td>\n",
       "      <td>http://www.thedivergentseries.movie/#insurgent</td>\n",
       "      <td>Robert Schwentke</td>\n",
       "      <td>One Choice Can Destroy You</td>\n",
       "      <td>...</td>\n",
       "      <td>Beatrice Prior must confront her inner demons ...</td>\n",
       "      <td>119</td>\n",
       "      <td>Adventure|Science Fiction|Thriller</td>\n",
       "      <td>Summit Entertainment|Mandeville Films|Red Wago...</td>\n",
       "      <td>3/18/15</td>\n",
       "      <td>2480</td>\n",
       "      <td>6.3</td>\n",
       "      <td>2015</td>\n",
       "      <td>1.012000e+08</td>\n",
       "      <td>2.716190e+08</td>\n",
       "    </tr>\n",
       "    <tr>\n",
       "      <th>3</th>\n",
       "      <td>140607</td>\n",
       "      <td>tt2488496</td>\n",
       "      <td>11.173104</td>\n",
       "      <td>200000000</td>\n",
       "      <td>2068178225</td>\n",
       "      <td>Star Wars: The Force Awakens</td>\n",
       "      <td>Harrison Ford|Mark Hamill|Carrie Fisher|Adam D...</td>\n",
       "      <td>http://www.starwars.com/films/star-wars-episod...</td>\n",
       "      <td>J.J. Abrams</td>\n",
       "      <td>Every generation has a story.</td>\n",
       "      <td>...</td>\n",
       "      <td>Thirty years after defeating the Galactic Empi...</td>\n",
       "      <td>136</td>\n",
       "      <td>Action|Adventure|Science Fiction|Fantasy</td>\n",
       "      <td>Lucasfilm|Truenorth Productions|Bad Robot</td>\n",
       "      <td>12/15/15</td>\n",
       "      <td>5292</td>\n",
       "      <td>7.5</td>\n",
       "      <td>2015</td>\n",
       "      <td>1.839999e+08</td>\n",
       "      <td>1.902723e+09</td>\n",
       "    </tr>\n",
       "    <tr>\n",
       "      <th>4</th>\n",
       "      <td>168259</td>\n",
       "      <td>tt2820852</td>\n",
       "      <td>9.335014</td>\n",
       "      <td>190000000</td>\n",
       "      <td>1506249360</td>\n",
       "      <td>Furious 7</td>\n",
       "      <td>Vin Diesel|Paul Walker|Jason Statham|Michelle ...</td>\n",
       "      <td>http://www.furious7.com/</td>\n",
       "      <td>James Wan</td>\n",
       "      <td>Vengeance Hits Home</td>\n",
       "      <td>...</td>\n",
       "      <td>Deckard Shaw seeks revenge against Dominic Tor...</td>\n",
       "      <td>137</td>\n",
       "      <td>Action|Crime|Thriller</td>\n",
       "      <td>Universal Pictures|Original Film|Media Rights ...</td>\n",
       "      <td>4/1/15</td>\n",
       "      <td>2947</td>\n",
       "      <td>7.3</td>\n",
       "      <td>2015</td>\n",
       "      <td>1.747999e+08</td>\n",
       "      <td>1.385749e+09</td>\n",
       "    </tr>\n",
       "  </tbody>\n",
       "</table>\n",
       "<p>5 rows × 21 columns</p>\n",
       "</div>"
      ],
      "text/plain": [
       "       id    imdb_id  popularity     budget     revenue  \\\n",
       "0  135397  tt0369610   32.985763  150000000  1513528810   \n",
       "1   76341  tt1392190   28.419936  150000000   378436354   \n",
       "2  262500  tt2908446   13.112507  110000000   295238201   \n",
       "3  140607  tt2488496   11.173104  200000000  2068178225   \n",
       "4  168259  tt2820852    9.335014  190000000  1506249360   \n",
       "\n",
       "                 original_title  \\\n",
       "0                Jurassic World   \n",
       "1            Mad Max: Fury Road   \n",
       "2                     Insurgent   \n",
       "3  Star Wars: The Force Awakens   \n",
       "4                     Furious 7   \n",
       "\n",
       "                                                cast  \\\n",
       "0  Chris Pratt|Bryce Dallas Howard|Irrfan Khan|Vi...   \n",
       "1  Tom Hardy|Charlize Theron|Hugh Keays-Byrne|Nic...   \n",
       "2  Shailene Woodley|Theo James|Kate Winslet|Ansel...   \n",
       "3  Harrison Ford|Mark Hamill|Carrie Fisher|Adam D...   \n",
       "4  Vin Diesel|Paul Walker|Jason Statham|Michelle ...   \n",
       "\n",
       "                                            homepage          director  \\\n",
       "0                      http://www.jurassicworld.com/   Colin Trevorrow   \n",
       "1                        http://www.madmaxmovie.com/     George Miller   \n",
       "2     http://www.thedivergentseries.movie/#insurgent  Robert Schwentke   \n",
       "3  http://www.starwars.com/films/star-wars-episod...       J.J. Abrams   \n",
       "4                           http://www.furious7.com/         James Wan   \n",
       "\n",
       "                         tagline  ...  \\\n",
       "0              The park is open.  ...   \n",
       "1             What a Lovely Day.  ...   \n",
       "2     One Choice Can Destroy You  ...   \n",
       "3  Every generation has a story.  ...   \n",
       "4            Vengeance Hits Home  ...   \n",
       "\n",
       "                                            overview runtime  \\\n",
       "0  Twenty-two years after the events of Jurassic ...     124   \n",
       "1  An apocalyptic story set in the furthest reach...     120   \n",
       "2  Beatrice Prior must confront her inner demons ...     119   \n",
       "3  Thirty years after defeating the Galactic Empi...     136   \n",
       "4  Deckard Shaw seeks revenge against Dominic Tor...     137   \n",
       "\n",
       "                                      genres  \\\n",
       "0  Action|Adventure|Science Fiction|Thriller   \n",
       "1  Action|Adventure|Science Fiction|Thriller   \n",
       "2         Adventure|Science Fiction|Thriller   \n",
       "3   Action|Adventure|Science Fiction|Fantasy   \n",
       "4                      Action|Crime|Thriller   \n",
       "\n",
       "                                production_companies release_date vote_count  \\\n",
       "0  Universal Studios|Amblin Entertainment|Legenda...       6/9/15       5562   \n",
       "1  Village Roadshow Pictures|Kennedy Miller Produ...      5/13/15       6185   \n",
       "2  Summit Entertainment|Mandeville Films|Red Wago...      3/18/15       2480   \n",
       "3          Lucasfilm|Truenorth Productions|Bad Robot     12/15/15       5292   \n",
       "4  Universal Pictures|Original Film|Media Rights ...       4/1/15       2947   \n",
       "\n",
       "   vote_average  release_year    budget_adj   revenue_adj  \n",
       "0           6.5          2015  1.379999e+08  1.392446e+09  \n",
       "1           7.1          2015  1.379999e+08  3.481613e+08  \n",
       "2           6.3          2015  1.012000e+08  2.716190e+08  \n",
       "3           7.5          2015  1.839999e+08  1.902723e+09  \n",
       "4           7.3          2015  1.747999e+08  1.385749e+09  \n",
       "\n",
       "[5 rows x 21 columns]"
      ]
     },
     "execution_count": 40,
     "metadata": {},
     "output_type": "execute_result"
    }
   ],
   "source": [
    "# Loading the data\n",
    "df = pd.read_csv('tmdb-movies.csv')\n",
    "# printing out a few lines.\n",
    "df.head()"
   ]
  },
  {
   "cell_type": "markdown",
   "metadata": {},
   "source": [
    "### Data Cleaning"
   ]
  },
  {
   "cell_type": "markdown",
   "metadata": {},
   "source": [
    "> **First we will drop all the columns that we don't need them in our analytics**"
   ]
  },
  {
   "cell_type": "markdown",
   "metadata": {},
   "source": [
    "> After discussing the structure of the data and any problems that need to be\n",
    "  cleaned, perform those cleaning steps in the second part of this section."
   ]
  },
  {
   "cell_type": "code",
   "execution_count": 41,
   "metadata": {
    "scrolled": false
   },
   "outputs": [
    {
     "data": {
      "text/html": [
       "<div>\n",
       "<style scoped>\n",
       "    .dataframe tbody tr th:only-of-type {\n",
       "        vertical-align: middle;\n",
       "    }\n",
       "\n",
       "    .dataframe tbody tr th {\n",
       "        vertical-align: top;\n",
       "    }\n",
       "\n",
       "    .dataframe thead th {\n",
       "        text-align: right;\n",
       "    }\n",
       "</style>\n",
       "<table border=\"1\" class=\"dataframe\">\n",
       "  <thead>\n",
       "    <tr style=\"text-align: right;\">\n",
       "      <th></th>\n",
       "      <th>popularity</th>\n",
       "      <th>budget</th>\n",
       "      <th>revenue</th>\n",
       "      <th>runtime</th>\n",
       "      <th>genres</th>\n",
       "      <th>release_date</th>\n",
       "      <th>vote_count</th>\n",
       "      <th>vote_average</th>\n",
       "      <th>release_year</th>\n",
       "      <th>budget_adj</th>\n",
       "      <th>revenue_adj</th>\n",
       "    </tr>\n",
       "  </thead>\n",
       "  <tbody>\n",
       "    <tr>\n",
       "      <th>0</th>\n",
       "      <td>32.985763</td>\n",
       "      <td>150000000</td>\n",
       "      <td>1513528810</td>\n",
       "      <td>124</td>\n",
       "      <td>Action|Adventure|Science Fiction|Thriller</td>\n",
       "      <td>6/9/15</td>\n",
       "      <td>5562</td>\n",
       "      <td>6.5</td>\n",
       "      <td>2015</td>\n",
       "      <td>1.379999e+08</td>\n",
       "      <td>1.392446e+09</td>\n",
       "    </tr>\n",
       "    <tr>\n",
       "      <th>1</th>\n",
       "      <td>28.419936</td>\n",
       "      <td>150000000</td>\n",
       "      <td>378436354</td>\n",
       "      <td>120</td>\n",
       "      <td>Action|Adventure|Science Fiction|Thriller</td>\n",
       "      <td>5/13/15</td>\n",
       "      <td>6185</td>\n",
       "      <td>7.1</td>\n",
       "      <td>2015</td>\n",
       "      <td>1.379999e+08</td>\n",
       "      <td>3.481613e+08</td>\n",
       "    </tr>\n",
       "    <tr>\n",
       "      <th>2</th>\n",
       "      <td>13.112507</td>\n",
       "      <td>110000000</td>\n",
       "      <td>295238201</td>\n",
       "      <td>119</td>\n",
       "      <td>Adventure|Science Fiction|Thriller</td>\n",
       "      <td>3/18/15</td>\n",
       "      <td>2480</td>\n",
       "      <td>6.3</td>\n",
       "      <td>2015</td>\n",
       "      <td>1.012000e+08</td>\n",
       "      <td>2.716190e+08</td>\n",
       "    </tr>\n",
       "    <tr>\n",
       "      <th>3</th>\n",
       "      <td>11.173104</td>\n",
       "      <td>200000000</td>\n",
       "      <td>2068178225</td>\n",
       "      <td>136</td>\n",
       "      <td>Action|Adventure|Science Fiction|Fantasy</td>\n",
       "      <td>12/15/15</td>\n",
       "      <td>5292</td>\n",
       "      <td>7.5</td>\n",
       "      <td>2015</td>\n",
       "      <td>1.839999e+08</td>\n",
       "      <td>1.902723e+09</td>\n",
       "    </tr>\n",
       "    <tr>\n",
       "      <th>4</th>\n",
       "      <td>9.335014</td>\n",
       "      <td>190000000</td>\n",
       "      <td>1506249360</td>\n",
       "      <td>137</td>\n",
       "      <td>Action|Crime|Thriller</td>\n",
       "      <td>4/1/15</td>\n",
       "      <td>2947</td>\n",
       "      <td>7.3</td>\n",
       "      <td>2015</td>\n",
       "      <td>1.747999e+08</td>\n",
       "      <td>1.385749e+09</td>\n",
       "    </tr>\n",
       "  </tbody>\n",
       "</table>\n",
       "</div>"
      ],
      "text/plain": [
       "   popularity     budget     revenue  runtime  \\\n",
       "0   32.985763  150000000  1513528810      124   \n",
       "1   28.419936  150000000   378436354      120   \n",
       "2   13.112507  110000000   295238201      119   \n",
       "3   11.173104  200000000  2068178225      136   \n",
       "4    9.335014  190000000  1506249360      137   \n",
       "\n",
       "                                      genres release_date  vote_count  \\\n",
       "0  Action|Adventure|Science Fiction|Thriller       6/9/15        5562   \n",
       "1  Action|Adventure|Science Fiction|Thriller      5/13/15        6185   \n",
       "2         Adventure|Science Fiction|Thriller      3/18/15        2480   \n",
       "3   Action|Adventure|Science Fiction|Fantasy     12/15/15        5292   \n",
       "4                      Action|Crime|Thriller       4/1/15        2947   \n",
       "\n",
       "   vote_average  release_year    budget_adj   revenue_adj  \n",
       "0           6.5          2015  1.379999e+08  1.392446e+09  \n",
       "1           7.1          2015  1.379999e+08  3.481613e+08  \n",
       "2           6.3          2015  1.012000e+08  2.716190e+08  \n",
       "3           7.5          2015  1.839999e+08  1.902723e+09  \n",
       "4           7.3          2015  1.747999e+08  1.385749e+09  "
      ]
     },
     "execution_count": 41,
     "metadata": {},
     "output_type": "execute_result"
    }
   ],
   "source": [
    "# Selecting the columns that we would drop\n",
    "dropped_columns = ['id', 'imdb_id', 'cast', 'homepage', 'director', 'tagline', 'overview', 'original_title',\n",
    "                  'keywords', 'production_companies']\n",
    "# Dropping the columns\n",
    "df.drop(dropped_columns, axis = 1, inplace = True)\n",
    "df.head()"
   ]
  },
  {
   "cell_type": "code",
   "execution_count": 42,
   "metadata": {
    "scrolled": true
   },
   "outputs": [
    {
     "data": {
      "text/plain": [
       "(10866, 11)"
      ]
     },
     "execution_count": 42,
     "metadata": {},
     "output_type": "execute_result"
    }
   ],
   "source": [
    "df.shape"
   ]
  },
  {
   "cell_type": "markdown",
   "metadata": {},
   "source": [
    "> **Now we will check for any missing values**"
   ]
  },
  {
   "cell_type": "code",
   "execution_count": 43,
   "metadata": {
    "scrolled": true
   },
   "outputs": [
    {
     "name": "stdout",
     "output_type": "stream",
     "text": [
      "<class 'pandas.core.frame.DataFrame'>\n",
      "RangeIndex: 10866 entries, 0 to 10865\n",
      "Data columns (total 11 columns):\n",
      "popularity      10866 non-null float64\n",
      "budget          10866 non-null int64\n",
      "revenue         10866 non-null int64\n",
      "runtime         10866 non-null int64\n",
      "genres          10843 non-null object\n",
      "release_date    10866 non-null object\n",
      "vote_count      10866 non-null int64\n",
      "vote_average    10866 non-null float64\n",
      "release_year    10866 non-null int64\n",
      "budget_adj      10866 non-null float64\n",
      "revenue_adj     10866 non-null float64\n",
      "dtypes: float64(4), int64(5), object(2)\n",
      "memory usage: 933.9+ KB\n"
     ]
    }
   ],
   "source": [
    "df.info()"
   ]
  },
  {
   "cell_type": "markdown",
   "metadata": {},
   "source": [
    "> **Looks like we have only 23 rows that has null values, since it's a few rows, we weill just drop them**"
   ]
  },
  {
   "cell_type": "code",
   "execution_count": 44,
   "metadata": {
    "scrolled": true
   },
   "outputs": [
    {
     "name": "stdout",
     "output_type": "stream",
     "text": [
      "<class 'pandas.core.frame.DataFrame'>\n",
      "Int64Index: 10843 entries, 0 to 10865\n",
      "Data columns (total 11 columns):\n",
      "popularity      10843 non-null float64\n",
      "budget          10843 non-null int64\n",
      "revenue         10843 non-null int64\n",
      "runtime         10843 non-null int64\n",
      "genres          10843 non-null object\n",
      "release_date    10843 non-null object\n",
      "vote_count      10843 non-null int64\n",
      "vote_average    10843 non-null float64\n",
      "release_year    10843 non-null int64\n",
      "budget_adj      10843 non-null float64\n",
      "revenue_adj     10843 non-null float64\n",
      "dtypes: float64(4), int64(5), object(2)\n",
      "memory usage: 1016.5+ KB\n"
     ]
    }
   ],
   "source": [
    "# Dropping the rows that contains \"Null values\" by index\n",
    "df.drop(index = df[df['genres'].isnull() == True].index, inplace = True)\n",
    "df.info()"
   ]
  },
  {
   "cell_type": "markdown",
   "metadata": {},
   "source": [
    "> **Now lets check the statistics for the Dataset**"
   ]
  },
  {
   "cell_type": "code",
   "execution_count": 45,
   "metadata": {
    "scrolled": true
   },
   "outputs": [
    {
     "data": {
      "text/html": [
       "<div>\n",
       "<style scoped>\n",
       "    .dataframe tbody tr th:only-of-type {\n",
       "        vertical-align: middle;\n",
       "    }\n",
       "\n",
       "    .dataframe tbody tr th {\n",
       "        vertical-align: top;\n",
       "    }\n",
       "\n",
       "    .dataframe thead th {\n",
       "        text-align: right;\n",
       "    }\n",
       "</style>\n",
       "<table border=\"1\" class=\"dataframe\">\n",
       "  <thead>\n",
       "    <tr style=\"text-align: right;\">\n",
       "      <th></th>\n",
       "      <th>popularity</th>\n",
       "      <th>budget</th>\n",
       "      <th>revenue</th>\n",
       "      <th>runtime</th>\n",
       "      <th>vote_count</th>\n",
       "      <th>vote_average</th>\n",
       "      <th>release_year</th>\n",
       "      <th>budget_adj</th>\n",
       "      <th>revenue_adj</th>\n",
       "    </tr>\n",
       "  </thead>\n",
       "  <tbody>\n",
       "    <tr>\n",
       "      <th>count</th>\n",
       "      <td>10843.000000</td>\n",
       "      <td>1.084300e+04</td>\n",
       "      <td>1.084300e+04</td>\n",
       "      <td>10843.000000</td>\n",
       "      <td>10843.000000</td>\n",
       "      <td>10843.000000</td>\n",
       "      <td>10843.000000</td>\n",
       "      <td>1.084300e+04</td>\n",
       "      <td>1.084300e+04</td>\n",
       "    </tr>\n",
       "    <tr>\n",
       "      <th>mean</th>\n",
       "      <td>0.647456</td>\n",
       "      <td>1.465672e+07</td>\n",
       "      <td>3.990779e+07</td>\n",
       "      <td>102.137508</td>\n",
       "      <td>217.813705</td>\n",
       "      <td>5.973974</td>\n",
       "      <td>2001.315595</td>\n",
       "      <td>1.758827e+07</td>\n",
       "      <td>5.147332e+07</td>\n",
       "    </tr>\n",
       "    <tr>\n",
       "      <th>std</th>\n",
       "      <td>1.000986</td>\n",
       "      <td>3.093864e+07</td>\n",
       "      <td>1.171131e+08</td>\n",
       "      <td>31.293320</td>\n",
       "      <td>576.155351</td>\n",
       "      <td>0.934260</td>\n",
       "      <td>12.813298</td>\n",
       "      <td>3.433299e+07</td>\n",
       "      <td>1.447664e+08</td>\n",
       "    </tr>\n",
       "    <tr>\n",
       "      <th>min</th>\n",
       "      <td>0.000065</td>\n",
       "      <td>0.000000e+00</td>\n",
       "      <td>0.000000e+00</td>\n",
       "      <td>0.000000</td>\n",
       "      <td>10.000000</td>\n",
       "      <td>1.500000</td>\n",
       "      <td>1960.000000</td>\n",
       "      <td>0.000000e+00</td>\n",
       "      <td>0.000000e+00</td>\n",
       "    </tr>\n",
       "    <tr>\n",
       "      <th>25%</th>\n",
       "      <td>0.208253</td>\n",
       "      <td>0.000000e+00</td>\n",
       "      <td>0.000000e+00</td>\n",
       "      <td>90.000000</td>\n",
       "      <td>17.000000</td>\n",
       "      <td>5.400000</td>\n",
       "      <td>1995.000000</td>\n",
       "      <td>0.000000e+00</td>\n",
       "      <td>0.000000e+00</td>\n",
       "    </tr>\n",
       "    <tr>\n",
       "      <th>50%</th>\n",
       "      <td>0.384555</td>\n",
       "      <td>0.000000e+00</td>\n",
       "      <td>0.000000e+00</td>\n",
       "      <td>99.000000</td>\n",
       "      <td>38.000000</td>\n",
       "      <td>6.000000</td>\n",
       "      <td>2006.000000</td>\n",
       "      <td>0.000000e+00</td>\n",
       "      <td>0.000000e+00</td>\n",
       "    </tr>\n",
       "    <tr>\n",
       "      <th>75%</th>\n",
       "      <td>0.715349</td>\n",
       "      <td>1.500000e+07</td>\n",
       "      <td>2.413675e+07</td>\n",
       "      <td>111.000000</td>\n",
       "      <td>146.000000</td>\n",
       "      <td>6.600000</td>\n",
       "      <td>2011.000000</td>\n",
       "      <td>2.093530e+07</td>\n",
       "      <td>3.387655e+07</td>\n",
       "    </tr>\n",
       "    <tr>\n",
       "      <th>max</th>\n",
       "      <td>32.985763</td>\n",
       "      <td>4.250000e+08</td>\n",
       "      <td>2.781506e+09</td>\n",
       "      <td>900.000000</td>\n",
       "      <td>9767.000000</td>\n",
       "      <td>9.200000</td>\n",
       "      <td>2015.000000</td>\n",
       "      <td>4.250000e+08</td>\n",
       "      <td>2.827124e+09</td>\n",
       "    </tr>\n",
       "  </tbody>\n",
       "</table>\n",
       "</div>"
      ],
      "text/plain": [
       "         popularity        budget       revenue       runtime    vote_count  \\\n",
       "count  10843.000000  1.084300e+04  1.084300e+04  10843.000000  10843.000000   \n",
       "mean       0.647456  1.465672e+07  3.990779e+07    102.137508    217.813705   \n",
       "std        1.000986  3.093864e+07  1.171131e+08     31.293320    576.155351   \n",
       "min        0.000065  0.000000e+00  0.000000e+00      0.000000     10.000000   \n",
       "25%        0.208253  0.000000e+00  0.000000e+00     90.000000     17.000000   \n",
       "50%        0.384555  0.000000e+00  0.000000e+00     99.000000     38.000000   \n",
       "75%        0.715349  1.500000e+07  2.413675e+07    111.000000    146.000000   \n",
       "max       32.985763  4.250000e+08  2.781506e+09    900.000000   9767.000000   \n",
       "\n",
       "       vote_average  release_year    budget_adj   revenue_adj  \n",
       "count  10843.000000  10843.000000  1.084300e+04  1.084300e+04  \n",
       "mean       5.973974   2001.315595  1.758827e+07  5.147332e+07  \n",
       "std        0.934260     12.813298  3.433299e+07  1.447664e+08  \n",
       "min        1.500000   1960.000000  0.000000e+00  0.000000e+00  \n",
       "25%        5.400000   1995.000000  0.000000e+00  0.000000e+00  \n",
       "50%        6.000000   2006.000000  0.000000e+00  0.000000e+00  \n",
       "75%        6.600000   2011.000000  2.093530e+07  3.387655e+07  \n",
       "max        9.200000   2015.000000  4.250000e+08  2.827124e+09  "
      ]
     },
     "execution_count": 45,
     "metadata": {},
     "output_type": "execute_result"
    }
   ],
   "source": [
    "df.describe()"
   ]
  },
  {
   "cell_type": "markdown",
   "metadata": {},
   "source": [
    "> **Looks like we have some _Zero_ values in _Budget_, _Revenue_ and _Run Time_ over 50% of the Dataset**\n",
    "\n",
    "> We will drop the rows that has zero in _Budget_ and _Revenue_, becouse we can't just fill it with mean, it's a row has no\n",
    "  usefull for us, forethere more the Zero's rows is more than 40%.\n",
    "  \n",
    "> For the _Run Time_ we will just leave it, because our research questions doesn't care much about that column."
   ]
  },
  {
   "cell_type": "code",
   "execution_count": 46,
   "metadata": {},
   "outputs": [
    {
     "data": {
      "text/plain": [
       "(4679, 11)"
      ]
     },
     "execution_count": 46,
     "metadata": {},
     "output_type": "execute_result"
    }
   ],
   "source": [
    "# Checking how many rows that has zero in Budget and Revenue\n",
    "df[(df['budget'] == 0) & (df['revenue'] == 0)].shape"
   ]
  },
  {
   "cell_type": "code",
   "execution_count": 47,
   "metadata": {},
   "outputs": [
    {
     "data": {
      "text/html": [
       "<div>\n",
       "<style scoped>\n",
       "    .dataframe tbody tr th:only-of-type {\n",
       "        vertical-align: middle;\n",
       "    }\n",
       "\n",
       "    .dataframe tbody tr th {\n",
       "        vertical-align: top;\n",
       "    }\n",
       "\n",
       "    .dataframe thead th {\n",
       "        text-align: right;\n",
       "    }\n",
       "</style>\n",
       "<table border=\"1\" class=\"dataframe\">\n",
       "  <thead>\n",
       "    <tr style=\"text-align: right;\">\n",
       "      <th></th>\n",
       "      <th>popularity</th>\n",
       "      <th>budget</th>\n",
       "      <th>revenue</th>\n",
       "      <th>runtime</th>\n",
       "      <th>vote_count</th>\n",
       "      <th>vote_average</th>\n",
       "      <th>release_year</th>\n",
       "      <th>budget_adj</th>\n",
       "      <th>revenue_adj</th>\n",
       "    </tr>\n",
       "  </thead>\n",
       "  <tbody>\n",
       "    <tr>\n",
       "      <th>count</th>\n",
       "      <td>6164.000000</td>\n",
       "      <td>6.164000e+03</td>\n",
       "      <td>6.164000e+03</td>\n",
       "      <td>6164.000000</td>\n",
       "      <td>6164.000000</td>\n",
       "      <td>6164.000000</td>\n",
       "      <td>6164.000000</td>\n",
       "      <td>6.164000e+03</td>\n",
       "      <td>6.164000e+03</td>\n",
       "    </tr>\n",
       "    <tr>\n",
       "      <th>mean</th>\n",
       "      <td>0.909458</td>\n",
       "      <td>2.578242e+07</td>\n",
       "      <td>7.020120e+07</td>\n",
       "      <td>106.457333</td>\n",
       "      <td>355.957333</td>\n",
       "      <td>6.039487</td>\n",
       "      <td>2000.990753</td>\n",
       "      <td>3.093926e+07</td>\n",
       "      <td>9.054594e+07</td>\n",
       "    </tr>\n",
       "    <tr>\n",
       "      <th>std</th>\n",
       "      <td>1.240841</td>\n",
       "      <td>3.737671e+07</td>\n",
       "      <td>1.483287e+08</td>\n",
       "      <td>23.152051</td>\n",
       "      <td>733.213580</td>\n",
       "      <td>0.871805</td>\n",
       "      <td>11.911298</td>\n",
       "      <td>4.074969e+07</td>\n",
       "      <td>1.825647e+08</td>\n",
       "    </tr>\n",
       "    <tr>\n",
       "      <th>min</th>\n",
       "      <td>0.001117</td>\n",
       "      <td>0.000000e+00</td>\n",
       "      <td>0.000000e+00</td>\n",
       "      <td>0.000000</td>\n",
       "      <td>10.000000</td>\n",
       "      <td>1.500000</td>\n",
       "      <td>1960.000000</td>\n",
       "      <td>0.000000e+00</td>\n",
       "      <td>0.000000e+00</td>\n",
       "    </tr>\n",
       "    <tr>\n",
       "      <th>25%</th>\n",
       "      <td>0.322289</td>\n",
       "      <td>1.700000e+06</td>\n",
       "      <td>1.192930e+05</td>\n",
       "      <td>93.000000</td>\n",
       "      <td>31.000000</td>\n",
       "      <td>5.500000</td>\n",
       "      <td>1994.000000</td>\n",
       "      <td>2.374361e+06</td>\n",
       "      <td>1.162947e+05</td>\n",
       "    </tr>\n",
       "    <tr>\n",
       "      <th>50%</th>\n",
       "      <td>0.570544</td>\n",
       "      <td>1.200000e+07</td>\n",
       "      <td>1.655209e+07</td>\n",
       "      <td>102.000000</td>\n",
       "      <td>96.000000</td>\n",
       "      <td>6.100000</td>\n",
       "      <td>2004.000000</td>\n",
       "      <td>1.622504e+07</td>\n",
       "      <td>2.334080e+07</td>\n",
       "    </tr>\n",
       "    <tr>\n",
       "      <th>75%</th>\n",
       "      <td>1.050621</td>\n",
       "      <td>3.300000e+07</td>\n",
       "      <td>7.145220e+07</td>\n",
       "      <td>116.000000</td>\n",
       "      <td>324.000000</td>\n",
       "      <td>6.600000</td>\n",
       "      <td>2010.000000</td>\n",
       "      <td>4.206450e+07</td>\n",
       "      <td>9.528597e+07</td>\n",
       "    </tr>\n",
       "    <tr>\n",
       "      <th>max</th>\n",
       "      <td>32.985763</td>\n",
       "      <td>4.250000e+08</td>\n",
       "      <td>2.781506e+09</td>\n",
       "      <td>705.000000</td>\n",
       "      <td>9767.000000</td>\n",
       "      <td>8.400000</td>\n",
       "      <td>2015.000000</td>\n",
       "      <td>4.250000e+08</td>\n",
       "      <td>2.827124e+09</td>\n",
       "    </tr>\n",
       "  </tbody>\n",
       "</table>\n",
       "</div>"
      ],
      "text/plain": [
       "        popularity        budget       revenue      runtime   vote_count  \\\n",
       "count  6164.000000  6.164000e+03  6.164000e+03  6164.000000  6164.000000   \n",
       "mean      0.909458  2.578242e+07  7.020120e+07   106.457333   355.957333   \n",
       "std       1.240841  3.737671e+07  1.483287e+08    23.152051   733.213580   \n",
       "min       0.001117  0.000000e+00  0.000000e+00     0.000000    10.000000   \n",
       "25%       0.322289  1.700000e+06  1.192930e+05    93.000000    31.000000   \n",
       "50%       0.570544  1.200000e+07  1.655209e+07   102.000000    96.000000   \n",
       "75%       1.050621  3.300000e+07  7.145220e+07   116.000000   324.000000   \n",
       "max      32.985763  4.250000e+08  2.781506e+09   705.000000  9767.000000   \n",
       "\n",
       "       vote_average  release_year    budget_adj   revenue_adj  \n",
       "count   6164.000000   6164.000000  6.164000e+03  6.164000e+03  \n",
       "mean       6.039487   2000.990753  3.093926e+07  9.054594e+07  \n",
       "std        0.871805     11.911298  4.074969e+07  1.825647e+08  \n",
       "min        1.500000   1960.000000  0.000000e+00  0.000000e+00  \n",
       "25%        5.500000   1994.000000  2.374361e+06  1.162947e+05  \n",
       "50%        6.100000   2004.000000  1.622504e+07  2.334080e+07  \n",
       "75%        6.600000   2010.000000  4.206450e+07  9.528597e+07  \n",
       "max        8.400000   2015.000000  4.250000e+08  2.827124e+09  "
      ]
     },
     "execution_count": 47,
     "metadata": {},
     "output_type": "execute_result"
    }
   ],
   "source": [
    "# Dropping the rows that contains \"Zero\" in both Budget and Revenue by index\n",
    "df.drop(df[(df['budget'] == 0) & (df['revenue'] == 0)].index, inplace = True)\n",
    "df.describe()"
   ]
  },
  {
   "cell_type": "markdown",
   "metadata": {},
   "source": [
    "<a id='eda'></a>\n",
    "## Exploratory Data Analysis"
   ]
  },
  {
   "cell_type": "markdown",
   "metadata": {},
   "source": [
    "<a id='q1'></a>\n",
    "### Research Question 1: Does spending more Budget increase the chance of getting high Vote Average ?"
   ]
  },
  {
   "cell_type": "code",
   "execution_count": 48,
   "metadata": {
    "scrolled": true
   },
   "outputs": [
    {
     "name": "stdout",
     "output_type": "stream",
     "text": [
      "<class 'pandas.core.frame.DataFrame'>\n",
      "Int64Index: 6164 entries, 0 to 10865\n",
      "Data columns (total 11 columns):\n",
      "popularity      6164 non-null float64\n",
      "budget          6164 non-null int64\n",
      "revenue         6164 non-null int64\n",
      "runtime         6164 non-null int64\n",
      "genres          6164 non-null object\n",
      "release_date    6164 non-null object\n",
      "vote_count      6164 non-null int64\n",
      "vote_average    6164 non-null float64\n",
      "release_year    6164 non-null int64\n",
      "budget_adj      6164 non-null float64\n",
      "revenue_adj     6164 non-null float64\n",
      "dtypes: float64(4), int64(5), object(2)\n",
      "memory usage: 577.9+ KB\n"
     ]
    }
   ],
   "source": [
    "df.info()"
   ]
  },
  {
   "cell_type": "markdown",
   "metadata": {},
   "source": [
    "> **Since *vote_average* is float, we have to use *sort_values* method to create a plot.**\n",
    "\n",
    "> as we build the plot we will put x-axis as *vote_average*, y-axis as *budget* and Scatter for the plot kind .\n",
    "\n",
    "> next, we will set the labes and the title with suitable names.\n",
    "\n",
    "> last, replace y-axis with more values so the plot looks better."
   ]
  },
  {
   "cell_type": "code",
   "execution_count": 49,
   "metadata": {
    "scrolled": true
   },
   "outputs": [
    {
     "data": {
      "image/png": "[encoded data removed]",
      "text/plain": [
       "<Figure size 432x288 with 1 Axes>"
      ]
     },
     "metadata": {
      "needs_background": "light"
     },
     "output_type": "display_data"
    }
   ],
   "source": [
    "# making the plot\n",
    "df.sort_values('vote_average').plot(x = 'vote_average', y = 'budget', kind = 'scatter')\n",
    "\n",
    "# setting the title\n",
    "plt.title('Vote Vs Budget')\n",
    "\n",
    "# setting the label for x-axis\n",
    "plt.xlabel('Vote')\n",
    "\n",
    "# setting the label for y-axis\n",
    "plt.ylabel('Budget')\n",
    "\n",
    "# making an array of values for y-ticks using numpy's \"arange\" function\n",
    "yticks = np.arange(0, 525000000, step = 75000000)\n",
    "\n",
    "# setting the array and the names \n",
    "plt.yticks(yticks, [0, '75M', '150M', '225M', '300M', '375M', '450M'])\n",
    "\n",
    "plt.show();"
   ]
  },
  {
   "cell_type": "markdown",
   "metadata": {},
   "source": [
    "**------------------------------------------------------------------------------------------------------------------------------------------------------------------------------------------------------------------**"
   ]
  },
  {
   "cell_type": "markdown",
   "metadata": {},
   "source": [
    "<a id='q2'></a>\n",
    "### Research Question 2: Does the cost of producing a movie is getting higher over the years ?"
   ]
  },
  {
   "cell_type": "code",
   "execution_count": 50,
   "metadata": {
    "scrolled": true
   },
   "outputs": [
    {
     "name": "stdout",
     "output_type": "stream",
     "text": [
      "<class 'pandas.core.frame.DataFrame'>\n",
      "Int64Index: 6164 entries, 0 to 10865\n",
      "Data columns (total 11 columns):\n",
      "popularity      6164 non-null float64\n",
      "budget          6164 non-null int64\n",
      "revenue         6164 non-null int64\n",
      "runtime         6164 non-null int64\n",
      "genres          6164 non-null object\n",
      "release_date    6164 non-null object\n",
      "vote_count      6164 non-null int64\n",
      "vote_average    6164 non-null float64\n",
      "release_year    6164 non-null int64\n",
      "budget_adj      6164 non-null float64\n",
      "revenue_adj     6164 non-null float64\n",
      "dtypes: float64(4), int64(5), object(2)\n",
      "memory usage: 577.9+ KB\n"
     ]
    }
   ],
   "source": [
    "df.info()"
   ]
  },
  {
   "cell_type": "markdown",
   "metadata": {},
   "source": [
    "> **First let's change *release_year* to int**"
   ]
  },
  {
   "cell_type": "code",
   "execution_count": 51,
   "metadata": {
    "scrolled": true
   },
   "outputs": [
    {
     "name": "stdout",
     "output_type": "stream",
     "text": [
      "<class 'pandas.core.frame.DataFrame'>\n",
      "Int64Index: 6164 entries, 0 to 10865\n",
      "Data columns (total 11 columns):\n",
      "popularity      6164 non-null float64\n",
      "budget          6164 non-null int64\n",
      "revenue         6164 non-null int64\n",
      "runtime         6164 non-null int64\n",
      "genres          6164 non-null object\n",
      "release_date    6164 non-null object\n",
      "vote_count      6164 non-null int64\n",
      "vote_average    6164 non-null float64\n",
      "release_year    6164 non-null int32\n",
      "budget_adj      6164 non-null float64\n",
      "revenue_adj     6164 non-null float64\n",
      "dtypes: float64(4), int32(1), int64(4), object(2)\n",
      "memory usage: 553.8+ KB\n"
     ]
    }
   ],
   "source": [
    "# changing the columns type to int\n",
    "df['release_year'] = df['release_year'].astype(int)\n",
    "df.info()"
   ]
  },
  {
   "cell_type": "markdown",
   "metadata": {},
   "source": [
    "> for this plot we will use *sort_values* method as well, put x-axis as *release_year*, y-axis as *budget* and the kind of the plot left as default.\n",
    "\n",
    "> next, we will set the labes and the title with suitable names.\n",
    "\n",
    "> last, replace x- axis and y-axis with more values so the plot looks better."
   ]
  },
  {
   "cell_type": "code",
   "execution_count": 52,
   "metadata": {
    "scrolled": true
   },
   "outputs": [
    {
     "data": {
      "image/png": "[encoded data removed]",
      "text/plain": [
       "<Figure size 432x288 with 1 Axes>"
      ]
     },
     "metadata": {
      "needs_background": "light"
     },
     "output_type": "display_data"
    }
   ],
   "source": [
    "# making the plot\n",
    "plt.plot = df.sort_values('release_year').plot(x = 'release_year', y = 'budget')\n",
    "\n",
    "# setting the title\n",
    "plt.title('Budget Over the Years')\n",
    "\n",
    "# setting the label for x-axis\n",
    "plt.xlabel('Release year');\n",
    "\n",
    "# setting the label for y-axis\n",
    "plt.ylabel('Budget');\n",
    "\n",
    "# making an array of values for x-ticks using numpy's \"arange\" function\n",
    "xticks = np.arange(1965, 2025, step = 10)\n",
    "\n",
    "# making an array of values for y-ticks using numpy's \"arange\" function\n",
    "yticks = np.arange(0, 525000000, step = 75000000)\n",
    "\n",
    "# setting the x-ticks\n",
    "plt.xticks(xticks)\n",
    "\n",
    "# setting the y-ticks and the names \n",
    "plt.yticks(yticks, [0, '75M', '150M', '225M', '300M', '375M', '450M'])\n",
    "\n",
    "plt.show();"
   ]
  },
  {
   "cell_type": "markdown",
   "metadata": {},
   "source": [
    "**------------------------------------------------------------------------------------------------------------------------------------------------------------------------------------------------------------------**"
   ]
  },
  {
   "cell_type": "markdown",
   "metadata": {},
   "source": [
    "<a id='q3'></a>\n",
    "### Research Question 3: Does the producing of movie is getting higher over the years ?"
   ]
  },
  {
   "cell_type": "markdown",
   "metadata": {},
   "source": [
    "> For this question we don't need much code.\n",
    "\n",
    "> just building a plot from *release_year* columns directly.\n",
    "\n",
    "> then, we will set the labes and the title with suitable names.\n",
    "\n",
    "> last, replace x- axis only  with more values since y-axis is representing very well."
   ]
  },
  {
   "cell_type": "code",
   "execution_count": 53,
   "metadata": {
    "scrolled": true
   },
   "outputs": [
    {
     "data": {
      "image/png": "[encoded data removed]",
      "text/plain": [
       "<Figure size 432x288 with 1 Axes>"
      ]
     },
     "metadata": {
      "needs_background": "light"
     },
     "output_type": "display_data"
    }
   ],
   "source": [
    "# making the plot\n",
    "plt.plot = df.release_year.hist()\n",
    "\n",
    "# setting the title\n",
    "plt.title('Number of Movies Over the Years')\n",
    "\n",
    "# setting the label for x-axis\n",
    "plt.xlabel('Release year');\n",
    "\n",
    "# setting the label for y-axis\n",
    "plt.ylabel('Number of Movies');\n",
    "\n",
    "# making an array of values for x-ticks using numpy's \"arange\" function\n",
    "xticks = np.arange(1965, 2025, step = 10)\n",
    "\n",
    "# setting the x-ticks\n",
    "plt.xticks(xticks)\n",
    "\n",
    "plt.show();"
   ]
  },
  {
   "cell_type": "markdown",
   "metadata": {},
   "source": [
    "**------------------------------------------------------------------------------------------------------------------------------------------------------------------------------------------------------------------**"
   ]
  },
  {
   "cell_type": "markdown",
   "metadata": {
    "scrolled": false
   },
   "source": [
    "<a id='q4'></a>\n",
    "### Research Question 4: Does the summer movies gets more revenues than the other seasons in average ?"
   ]
  },
  {
   "cell_type": "code",
   "execution_count": 54,
   "metadata": {},
   "outputs": [
    {
     "data": {
      "text/html": [
       "<div>\n",
       "<style scoped>\n",
       "    .dataframe tbody tr th:only-of-type {\n",
       "        vertical-align: middle;\n",
       "    }\n",
       "\n",
       "    .dataframe tbody tr th {\n",
       "        vertical-align: top;\n",
       "    }\n",
       "\n",
       "    .dataframe thead th {\n",
       "        text-align: right;\n",
       "    }\n",
       "</style>\n",
       "<table border=\"1\" class=\"dataframe\">\n",
       "  <thead>\n",
       "    <tr style=\"text-align: right;\">\n",
       "      <th></th>\n",
       "      <th>popularity</th>\n",
       "      <th>budget</th>\n",
       "      <th>revenue</th>\n",
       "      <th>runtime</th>\n",
       "      <th>genres</th>\n",
       "      <th>release_date</th>\n",
       "      <th>vote_count</th>\n",
       "      <th>vote_average</th>\n",
       "      <th>release_year</th>\n",
       "      <th>budget_adj</th>\n",
       "      <th>revenue_adj</th>\n",
       "    </tr>\n",
       "  </thead>\n",
       "  <tbody>\n",
       "    <tr>\n",
       "      <th>0</th>\n",
       "      <td>32.985763</td>\n",
       "      <td>150000000</td>\n",
       "      <td>1513528810</td>\n",
       "      <td>124</td>\n",
       "      <td>Action|Adventure|Science Fiction|Thriller</td>\n",
       "      <td>6/9/15</td>\n",
       "      <td>5562</td>\n",
       "      <td>6.5</td>\n",
       "      <td>2015</td>\n",
       "      <td>1.379999e+08</td>\n",
       "      <td>1.392446e+09</td>\n",
       "    </tr>\n",
       "    <tr>\n",
       "      <th>1</th>\n",
       "      <td>28.419936</td>\n",
       "      <td>150000000</td>\n",
       "      <td>378436354</td>\n",
       "      <td>120</td>\n",
       "      <td>Action|Adventure|Science Fiction|Thriller</td>\n",
       "      <td>5/13/15</td>\n",
       "      <td>6185</td>\n",
       "      <td>7.1</td>\n",
       "      <td>2015</td>\n",
       "      <td>1.379999e+08</td>\n",
       "      <td>3.481613e+08</td>\n",
       "    </tr>\n",
       "    <tr>\n",
       "      <th>2</th>\n",
       "      <td>13.112507</td>\n",
       "      <td>110000000</td>\n",
       "      <td>295238201</td>\n",
       "      <td>119</td>\n",
       "      <td>Adventure|Science Fiction|Thriller</td>\n",
       "      <td>3/18/15</td>\n",
       "      <td>2480</td>\n",
       "      <td>6.3</td>\n",
       "      <td>2015</td>\n",
       "      <td>1.012000e+08</td>\n",
       "      <td>2.716190e+08</td>\n",
       "    </tr>\n",
       "    <tr>\n",
       "      <th>3</th>\n",
       "      <td>11.173104</td>\n",
       "      <td>200000000</td>\n",
       "      <td>2068178225</td>\n",
       "      <td>136</td>\n",
       "      <td>Action|Adventure|Science Fiction|Fantasy</td>\n",
       "      <td>12/15/15</td>\n",
       "      <td>5292</td>\n",
       "      <td>7.5</td>\n",
       "      <td>2015</td>\n",
       "      <td>1.839999e+08</td>\n",
       "      <td>1.902723e+09</td>\n",
       "    </tr>\n",
       "    <tr>\n",
       "      <th>4</th>\n",
       "      <td>9.335014</td>\n",
       "      <td>190000000</td>\n",
       "      <td>1506249360</td>\n",
       "      <td>137</td>\n",
       "      <td>Action|Crime|Thriller</td>\n",
       "      <td>4/1/15</td>\n",
       "      <td>2947</td>\n",
       "      <td>7.3</td>\n",
       "      <td>2015</td>\n",
       "      <td>1.747999e+08</td>\n",
       "      <td>1.385749e+09</td>\n",
       "    </tr>\n",
       "  </tbody>\n",
       "</table>\n",
       "</div>"
      ],
      "text/plain": [
       "   popularity     budget     revenue  runtime  \\\n",
       "0   32.985763  150000000  1513528810      124   \n",
       "1   28.419936  150000000   378436354      120   \n",
       "2   13.112507  110000000   295238201      119   \n",
       "3   11.173104  200000000  2068178225      136   \n",
       "4    9.335014  190000000  1506249360      137   \n",
       "\n",
       "                                      genres release_date  vote_count  \\\n",
       "0  Action|Adventure|Science Fiction|Thriller       6/9/15        5562   \n",
       "1  Action|Adventure|Science Fiction|Thriller      5/13/15        6185   \n",
       "2         Adventure|Science Fiction|Thriller      3/18/15        2480   \n",
       "3   Action|Adventure|Science Fiction|Fantasy     12/15/15        5292   \n",
       "4                      Action|Crime|Thriller       4/1/15        2947   \n",
       "\n",
       "   vote_average  release_year    budget_adj   revenue_adj  \n",
       "0           6.5          2015  1.379999e+08  1.392446e+09  \n",
       "1           7.1          2015  1.379999e+08  3.481613e+08  \n",
       "2           6.3          2015  1.012000e+08  2.716190e+08  \n",
       "3           7.5          2015  1.839999e+08  1.902723e+09  \n",
       "4           7.3          2015  1.747999e+08  1.385749e+09  "
      ]
     },
     "execution_count": 54,
     "metadata": {},
     "output_type": "execute_result"
    }
   ],
   "source": [
    "df.head()"
   ]
  },
  {
   "cell_type": "markdown",
   "metadata": {},
   "source": [
    "> the *release_date* format is mm/dd/yyyy, so first we have to split the month.\n",
    "\n",
    "> for that we will have a copy of the dataset."
   ]
  },
  {
   "cell_type": "code",
   "execution_count": 55,
   "metadata": {},
   "outputs": [],
   "source": [
    "# making a copy\n",
    "months = df.copy()"
   ]
  },
  {
   "cell_type": "markdown",
   "metadata": {},
   "source": [
    "> then we will split the column, by using apply method.\n",
    "\n",
    "> since we care only about the months, we will just save the month and drop the rest."
   ]
  },
  {
   "cell_type": "code",
   "execution_count": 56,
   "metadata": {},
   "outputs": [],
   "source": [
    "# spliting the months from \"release_date\" column\n",
    "months['release_date'] = df['release_date'].apply(lambda x: x.split(\"/\")[0])"
   ]
  },
  {
   "cell_type": "markdown",
   "metadata": {},
   "source": [
    "> checking the copy "
   ]
  },
  {
   "cell_type": "code",
   "execution_count": 57,
   "metadata": {
    "scrolled": true
   },
   "outputs": [
    {
     "data": {
      "text/html": [
       "<div>\n",
       "<style scoped>\n",
       "    .dataframe tbody tr th:only-of-type {\n",
       "        vertical-align: middle;\n",
       "    }\n",
       "\n",
       "    .dataframe tbody tr th {\n",
       "        vertical-align: top;\n",
       "    }\n",
       "\n",
       "    .dataframe thead th {\n",
       "        text-align: right;\n",
       "    }\n",
       "</style>\n",
       "<table border=\"1\" class=\"dataframe\">\n",
       "  <thead>\n",
       "    <tr style=\"text-align: right;\">\n",
       "      <th></th>\n",
       "      <th>popularity</th>\n",
       "      <th>budget</th>\n",
       "      <th>revenue</th>\n",
       "      <th>runtime</th>\n",
       "      <th>genres</th>\n",
       "      <th>release_date</th>\n",
       "      <th>vote_count</th>\n",
       "      <th>vote_average</th>\n",
       "      <th>release_year</th>\n",
       "      <th>budget_adj</th>\n",
       "      <th>revenue_adj</th>\n",
       "    </tr>\n",
       "  </thead>\n",
       "  <tbody>\n",
       "    <tr>\n",
       "      <th>0</th>\n",
       "      <td>32.985763</td>\n",
       "      <td>150000000</td>\n",
       "      <td>1513528810</td>\n",
       "      <td>124</td>\n",
       "      <td>Action|Adventure|Science Fiction|Thriller</td>\n",
       "      <td>6</td>\n",
       "      <td>5562</td>\n",
       "      <td>6.5</td>\n",
       "      <td>2015</td>\n",
       "      <td>1.379999e+08</td>\n",
       "      <td>1.392446e+09</td>\n",
       "    </tr>\n",
       "    <tr>\n",
       "      <th>1</th>\n",
       "      <td>28.419936</td>\n",
       "      <td>150000000</td>\n",
       "      <td>378436354</td>\n",
       "      <td>120</td>\n",
       "      <td>Action|Adventure|Science Fiction|Thriller</td>\n",
       "      <td>5</td>\n",
       "      <td>6185</td>\n",
       "      <td>7.1</td>\n",
       "      <td>2015</td>\n",
       "      <td>1.379999e+08</td>\n",
       "      <td>3.481613e+08</td>\n",
       "    </tr>\n",
       "    <tr>\n",
       "      <th>2</th>\n",
       "      <td>13.112507</td>\n",
       "      <td>110000000</td>\n",
       "      <td>295238201</td>\n",
       "      <td>119</td>\n",
       "      <td>Adventure|Science Fiction|Thriller</td>\n",
       "      <td>3</td>\n",
       "      <td>2480</td>\n",
       "      <td>6.3</td>\n",
       "      <td>2015</td>\n",
       "      <td>1.012000e+08</td>\n",
       "      <td>2.716190e+08</td>\n",
       "    </tr>\n",
       "    <tr>\n",
       "      <th>3</th>\n",
       "      <td>11.173104</td>\n",
       "      <td>200000000</td>\n",
       "      <td>2068178225</td>\n",
       "      <td>136</td>\n",
       "      <td>Action|Adventure|Science Fiction|Fantasy</td>\n",
       "      <td>12</td>\n",
       "      <td>5292</td>\n",
       "      <td>7.5</td>\n",
       "      <td>2015</td>\n",
       "      <td>1.839999e+08</td>\n",
       "      <td>1.902723e+09</td>\n",
       "    </tr>\n",
       "    <tr>\n",
       "      <th>4</th>\n",
       "      <td>9.335014</td>\n",
       "      <td>190000000</td>\n",
       "      <td>1506249360</td>\n",
       "      <td>137</td>\n",
       "      <td>Action|Crime|Thriller</td>\n",
       "      <td>4</td>\n",
       "      <td>2947</td>\n",
       "      <td>7.3</td>\n",
       "      <td>2015</td>\n",
       "      <td>1.747999e+08</td>\n",
       "      <td>1.385749e+09</td>\n",
       "    </tr>\n",
       "  </tbody>\n",
       "</table>\n",
       "</div>"
      ],
      "text/plain": [
       "   popularity     budget     revenue  runtime  \\\n",
       "0   32.985763  150000000  1513528810      124   \n",
       "1   28.419936  150000000   378436354      120   \n",
       "2   13.112507  110000000   295238201      119   \n",
       "3   11.173104  200000000  2068178225      136   \n",
       "4    9.335014  190000000  1506249360      137   \n",
       "\n",
       "                                      genres release_date  vote_count  \\\n",
       "0  Action|Adventure|Science Fiction|Thriller            6        5562   \n",
       "1  Action|Adventure|Science Fiction|Thriller            5        6185   \n",
       "2         Adventure|Science Fiction|Thriller            3        2480   \n",
       "3   Action|Adventure|Science Fiction|Fantasy           12        5292   \n",
       "4                      Action|Crime|Thriller            4        2947   \n",
       "\n",
       "   vote_average  release_year    budget_adj   revenue_adj  \n",
       "0           6.5          2015  1.379999e+08  1.392446e+09  \n",
       "1           7.1          2015  1.379999e+08  3.481613e+08  \n",
       "2           6.3          2015  1.012000e+08  2.716190e+08  \n",
       "3           7.5          2015  1.839999e+08  1.902723e+09  \n",
       "4           7.3          2015  1.747999e+08  1.385749e+09  "
      ]
     },
     "execution_count": 57,
     "metadata": {},
     "output_type": "execute_result"
    }
   ],
   "source": [
    "months.head()"
   ]
  },
  {
   "cell_type": "code",
   "execution_count": 58,
   "metadata": {
    "scrolled": true
   },
   "outputs": [
    {
     "name": "stdout",
     "output_type": "stream",
     "text": [
      "<class 'pandas.core.frame.DataFrame'>\n",
      "Int64Index: 6164 entries, 0 to 10865\n",
      "Data columns (total 11 columns):\n",
      "popularity      6164 non-null float64\n",
      "budget          6164 non-null int64\n",
      "revenue         6164 non-null int64\n",
      "runtime         6164 non-null int64\n",
      "genres          6164 non-null object\n",
      "release_date    6164 non-null object\n",
      "vote_count      6164 non-null int64\n",
      "vote_average    6164 non-null float64\n",
      "release_year    6164 non-null int32\n",
      "budget_adj      6164 non-null float64\n",
      "revenue_adj     6164 non-null float64\n",
      "dtypes: float64(4), int32(1), int64(4), object(2)\n",
      "memory usage: 553.8+ KB\n"
     ]
    }
   ],
   "source": [
    "months.info()"
   ]
  },
  {
   "cell_type": "markdown",
   "metadata": {},
   "source": [
    "> changing the *release_date* type from string to int, so the handling would be easier."
   ]
  },
  {
   "cell_type": "code",
   "execution_count": 59,
   "metadata": {},
   "outputs": [
    {
     "name": "stdout",
     "output_type": "stream",
     "text": [
      "<class 'pandas.core.frame.DataFrame'>\n",
      "Int64Index: 6164 entries, 0 to 10865\n",
      "Data columns (total 11 columns):\n",
      "popularity      6164 non-null float64\n",
      "budget          6164 non-null int64\n",
      "revenue         6164 non-null int64\n",
      "runtime         6164 non-null int64\n",
      "genres          6164 non-null object\n",
      "release_date    6164 non-null object\n",
      "vote_count      6164 non-null int64\n",
      "vote_average    6164 non-null float64\n",
      "release_year    6164 non-null int32\n",
      "budget_adj      6164 non-null float64\n",
      "revenue_adj     6164 non-null float64\n",
      "dtypes: float64(4), int32(1), int64(4), object(2)\n",
      "memory usage: 553.8+ KB\n"
     ]
    }
   ],
   "source": [
    "# changing release_date column type for the copy\n",
    "months['release_date'].astype(int, inplace = True)\n",
    "months.info()"
   ]
  },
  {
   "cell_type": "markdown",
   "metadata": {},
   "source": [
    "> Now, we'er going to make 2 more dataframes, one for the summer movies, and and one for the other seasons.\n",
    "\n",
    "> First the summer movies, and the summer considered as july, august and september (7, 8, 9)."
   ]
  },
  {
   "cell_type": "code",
   "execution_count": 60,
   "metadata": {
    "scrolled": true
   },
   "outputs": [
    {
     "data": {
      "text/html": [
       "<div>\n",
       "<style scoped>\n",
       "    .dataframe tbody tr th:only-of-type {\n",
       "        vertical-align: middle;\n",
       "    }\n",
       "\n",
       "    .dataframe tbody tr th {\n",
       "        vertical-align: top;\n",
       "    }\n",
       "\n",
       "    .dataframe thead th {\n",
       "        text-align: right;\n",
       "    }\n",
       "</style>\n",
       "<table border=\"1\" class=\"dataframe\">\n",
       "  <thead>\n",
       "    <tr style=\"text-align: right;\">\n",
       "      <th></th>\n",
       "      <th>popularity</th>\n",
       "      <th>budget</th>\n",
       "      <th>revenue</th>\n",
       "      <th>runtime</th>\n",
       "      <th>genres</th>\n",
       "      <th>release_date</th>\n",
       "      <th>vote_count</th>\n",
       "      <th>vote_average</th>\n",
       "      <th>release_year</th>\n",
       "      <th>budget_adj</th>\n",
       "      <th>revenue_adj</th>\n",
       "    </tr>\n",
       "  </thead>\n",
       "  <tbody>\n",
       "    <tr>\n",
       "      <th>7</th>\n",
       "      <td>7.667400</td>\n",
       "      <td>108000000</td>\n",
       "      <td>595380321</td>\n",
       "      <td>141</td>\n",
       "      <td>Drama|Adventure|Science Fiction</td>\n",
       "      <td>9</td>\n",
       "      <td>4572</td>\n",
       "      <td>7.6</td>\n",
       "      <td>2015</td>\n",
       "      <td>9.935996e+07</td>\n",
       "      <td>5.477497e+08</td>\n",
       "    </tr>\n",
       "    <tr>\n",
       "      <th>13</th>\n",
       "      <td>5.984995</td>\n",
       "      <td>88000000</td>\n",
       "      <td>243637091</td>\n",
       "      <td>105</td>\n",
       "      <td>Action|Comedy|Science Fiction</td>\n",
       "      <td>7</td>\n",
       "      <td>1575</td>\n",
       "      <td>5.8</td>\n",
       "      <td>2015</td>\n",
       "      <td>8.095996e+07</td>\n",
       "      <td>2.241460e+08</td>\n",
       "    </tr>\n",
       "    <tr>\n",
       "      <th>17</th>\n",
       "      <td>5.573184</td>\n",
       "      <td>130000000</td>\n",
       "      <td>518602163</td>\n",
       "      <td>115</td>\n",
       "      <td>Science Fiction|Action|Adventure</td>\n",
       "      <td>7</td>\n",
       "      <td>3779</td>\n",
       "      <td>7.0</td>\n",
       "      <td>2015</td>\n",
       "      <td>1.195999e+08</td>\n",
       "      <td>4.771138e+08</td>\n",
       "    </tr>\n",
       "    <tr>\n",
       "      <th>25</th>\n",
       "      <td>4.566713</td>\n",
       "      <td>150000000</td>\n",
       "      <td>682330139</td>\n",
       "      <td>131</td>\n",
       "      <td>Action</td>\n",
       "      <td>7</td>\n",
       "      <td>2349</td>\n",
       "      <td>7.1</td>\n",
       "      <td>2015</td>\n",
       "      <td>1.379999e+08</td>\n",
       "      <td>6.277435e+08</td>\n",
       "    </tr>\n",
       "    <tr>\n",
       "      <th>29</th>\n",
       "      <td>3.968891</td>\n",
       "      <td>61000000</td>\n",
       "      <td>311256926</td>\n",
       "      <td>132</td>\n",
       "      <td>Action|Science Fiction|Thriller</td>\n",
       "      <td>9</td>\n",
       "      <td>1849</td>\n",
       "      <td>6.4</td>\n",
       "      <td>2015</td>\n",
       "      <td>5.611998e+07</td>\n",
       "      <td>2.863562e+08</td>\n",
       "    </tr>\n",
       "  </tbody>\n",
       "</table>\n",
       "</div>"
      ],
      "text/plain": [
       "    popularity     budget    revenue  runtime  \\\n",
       "7     7.667400  108000000  595380321      141   \n",
       "13    5.984995   88000000  243637091      105   \n",
       "17    5.573184  130000000  518602163      115   \n",
       "25    4.566713  150000000  682330139      131   \n",
       "29    3.968891   61000000  311256926      132   \n",
       "\n",
       "                              genres release_date  vote_count  vote_average  \\\n",
       "7    Drama|Adventure|Science Fiction            9        4572           7.6   \n",
       "13     Action|Comedy|Science Fiction            7        1575           5.8   \n",
       "17  Science Fiction|Action|Adventure            7        3779           7.0   \n",
       "25                            Action            7        2349           7.1   \n",
       "29   Action|Science Fiction|Thriller            9        1849           6.4   \n",
       "\n",
       "    release_year    budget_adj   revenue_adj  \n",
       "7           2015  9.935996e+07  5.477497e+08  \n",
       "13          2015  8.095996e+07  2.241460e+08  \n",
       "17          2015  1.195999e+08  4.771138e+08  \n",
       "25          2015  1.379999e+08  6.277435e+08  \n",
       "29          2015  5.611998e+07  2.863562e+08  "
      ]
     },
     "execution_count": 60,
     "metadata": {},
     "output_type": "execute_result"
    }
   ],
   "source": [
    "# selecting only the summer months (7, 8, 9)\n",
    "summer = months[(months['release_date'] == '7') | (months['release_date'] == '8') | (months['release_date'] == '9')]\n",
    "summer.head()"
   ]
  },
  {
   "cell_type": "markdown",
   "metadata": {},
   "source": [
    "> making the other dataframe."
   ]
  },
  {
   "cell_type": "code",
   "execution_count": 61,
   "metadata": {
    "scrolled": true
   },
   "outputs": [
    {
     "data": {
      "text/html": [
       "<div>\n",
       "<style scoped>\n",
       "    .dataframe tbody tr th:only-of-type {\n",
       "        vertical-align: middle;\n",
       "    }\n",
       "\n",
       "    .dataframe tbody tr th {\n",
       "        vertical-align: top;\n",
       "    }\n",
       "\n",
       "    .dataframe thead th {\n",
       "        text-align: right;\n",
       "    }\n",
       "</style>\n",
       "<table border=\"1\" class=\"dataframe\">\n",
       "  <thead>\n",
       "    <tr style=\"text-align: right;\">\n",
       "      <th></th>\n",
       "      <th>popularity</th>\n",
       "      <th>budget</th>\n",
       "      <th>revenue</th>\n",
       "      <th>runtime</th>\n",
       "      <th>genres</th>\n",
       "      <th>release_date</th>\n",
       "      <th>vote_count</th>\n",
       "      <th>vote_average</th>\n",
       "      <th>release_year</th>\n",
       "      <th>budget_adj</th>\n",
       "      <th>revenue_adj</th>\n",
       "    </tr>\n",
       "  </thead>\n",
       "  <tbody>\n",
       "    <tr>\n",
       "      <th>0</th>\n",
       "      <td>32.985763</td>\n",
       "      <td>150000000</td>\n",
       "      <td>1513528810</td>\n",
       "      <td>124</td>\n",
       "      <td>Action|Adventure|Science Fiction|Thriller</td>\n",
       "      <td>6</td>\n",
       "      <td>5562</td>\n",
       "      <td>6.5</td>\n",
       "      <td>2015</td>\n",
       "      <td>1.379999e+08</td>\n",
       "      <td>1.392446e+09</td>\n",
       "    </tr>\n",
       "    <tr>\n",
       "      <th>1</th>\n",
       "      <td>28.419936</td>\n",
       "      <td>150000000</td>\n",
       "      <td>378436354</td>\n",
       "      <td>120</td>\n",
       "      <td>Action|Adventure|Science Fiction|Thriller</td>\n",
       "      <td>5</td>\n",
       "      <td>6185</td>\n",
       "      <td>7.1</td>\n",
       "      <td>2015</td>\n",
       "      <td>1.379999e+08</td>\n",
       "      <td>3.481613e+08</td>\n",
       "    </tr>\n",
       "    <tr>\n",
       "      <th>2</th>\n",
       "      <td>13.112507</td>\n",
       "      <td>110000000</td>\n",
       "      <td>295238201</td>\n",
       "      <td>119</td>\n",
       "      <td>Adventure|Science Fiction|Thriller</td>\n",
       "      <td>3</td>\n",
       "      <td>2480</td>\n",
       "      <td>6.3</td>\n",
       "      <td>2015</td>\n",
       "      <td>1.012000e+08</td>\n",
       "      <td>2.716190e+08</td>\n",
       "    </tr>\n",
       "    <tr>\n",
       "      <th>3</th>\n",
       "      <td>11.173104</td>\n",
       "      <td>200000000</td>\n",
       "      <td>2068178225</td>\n",
       "      <td>136</td>\n",
       "      <td>Action|Adventure|Science Fiction|Fantasy</td>\n",
       "      <td>12</td>\n",
       "      <td>5292</td>\n",
       "      <td>7.5</td>\n",
       "      <td>2015</td>\n",
       "      <td>1.839999e+08</td>\n",
       "      <td>1.902723e+09</td>\n",
       "    </tr>\n",
       "    <tr>\n",
       "      <th>4</th>\n",
       "      <td>9.335014</td>\n",
       "      <td>190000000</td>\n",
       "      <td>1506249360</td>\n",
       "      <td>137</td>\n",
       "      <td>Action|Crime|Thriller</td>\n",
       "      <td>4</td>\n",
       "      <td>2947</td>\n",
       "      <td>7.3</td>\n",
       "      <td>2015</td>\n",
       "      <td>1.747999e+08</td>\n",
       "      <td>1.385749e+09</td>\n",
       "    </tr>\n",
       "  </tbody>\n",
       "</table>\n",
       "</div>"
      ],
      "text/plain": [
       "   popularity     budget     revenue  runtime  \\\n",
       "0   32.985763  150000000  1513528810      124   \n",
       "1   28.419936  150000000   378436354      120   \n",
       "2   13.112507  110000000   295238201      119   \n",
       "3   11.173104  200000000  2068178225      136   \n",
       "4    9.335014  190000000  1506249360      137   \n",
       "\n",
       "                                      genres release_date  vote_count  \\\n",
       "0  Action|Adventure|Science Fiction|Thriller            6        5562   \n",
       "1  Action|Adventure|Science Fiction|Thriller            5        6185   \n",
       "2         Adventure|Science Fiction|Thriller            3        2480   \n",
       "3   Action|Adventure|Science Fiction|Fantasy           12        5292   \n",
       "4                      Action|Crime|Thriller            4        2947   \n",
       "\n",
       "   vote_average  release_year    budget_adj   revenue_adj  \n",
       "0           6.5          2015  1.379999e+08  1.392446e+09  \n",
       "1           7.1          2015  1.379999e+08  3.481613e+08  \n",
       "2           6.3          2015  1.012000e+08  2.716190e+08  \n",
       "3           7.5          2015  1.839999e+08  1.902723e+09  \n",
       "4           7.3          2015  1.747999e+08  1.385749e+09  "
      ]
     },
     "execution_count": 61,
     "metadata": {},
     "output_type": "execute_result"
    }
   ],
   "source": [
    "# selecting all the months except summer months\n",
    "all_seasons = months[(months['release_date'] != '7') & (months['release_date'] != '8') & (months['release_date'] != '9')]\n",
    "all_seasons.head()"
   ]
  },
  {
   "cell_type": "markdown",
   "metadata": {},
   "source": [
    "> Finally, the plot would kind of bar,\n",
    "\n",
    "> the values is the mean of each DF.\n",
    "\n",
    "> setting the suitable labels\n",
    "\n",
    "> and replacing the y-axis with more values "
   ]
  },
  {
   "cell_type": "code",
   "execution_count": 62,
   "metadata": {
    "scrolled": true
   },
   "outputs": [
    {
     "data": {
      "image/png": "[encoded data removed]",
      "text/plain": [
       "<Figure size 432x288 with 1 Axes>"
      ]
     },
     "metadata": {
      "needs_background": "light"
     },
     "output_type": "display_data"
    }
   ],
   "source": [
    "# making names for the bars \n",
    "names = ['All Seasons', 'Summer']\n",
    "\n",
    "# making values for the bars \n",
    "values = [all_seasons['revenue'].mean(), summer['revenue'].mean()]\n",
    "\n",
    "# making the plot\n",
    "plt.bar(names, values)\n",
    "\n",
    "# setting the plot title\n",
    "plt.title('All Seasons Movies Vs Summers Movies')\n",
    "\n",
    "# setting the label for x-axis\n",
    "plt.xlabel('Release Period')\n",
    "\n",
    "# setting the label for y-axis\n",
    "plt.ylabel('Revenues')\n",
    "\n",
    "# making an array of values for y-ticks using numpy's \"arange\" function\n",
    "yticks = np.arange(0, 90000000, step = 15000000)\n",
    "# setting the y-ticks and the names \n",
    "plt.yticks(yticks, ['0', '15M', '30M', '45M', '60M', '75M'])\n",
    "\n",
    "\n",
    "plt.show();"
   ]
  },
  {
   "cell_type": "markdown",
   "metadata": {},
   "source": [
    "<a id='conclusions'></a>\n",
    "## Conclusions\n",
    "\n",
    "> in Conclusion we have got the answers tha we were looking for from our analytics, we will discusses eace one individually. \n",
    "\n",
    "## Limitations:\n",
    "> During this project i had some issues in cleaning the data and visualizations, in the beginning i was filling some rows with wrong values without notice that, so the visualziations was terrible, and i didn't know why, then i discovered that the cleaning wasn't good enough, so i learned that every step of analysing is built top of another.\n",
    "\n",
    "## Questions Answers:\n",
    "\n",
    "### Question 1/ Does spending more Budget increase the chance of getting high Vote Average ?\n",
    "\n",
    "> the plot looks little a bit skewed left bell, so the answer is:\n",
    "  Yes, the chance of getting higher vote average has increaced.\n",
    "\n",
    "\n",
    "\n",
    "### Question 2/ Does the cost of producing a movie is getting higher over the years ?\n",
    "\n",
    "> the plot looks skewed left, so the answer is:\n",
    "  Yes, the cost of producing a movie is getting higher, but the last few years has droped a little bit.\n",
    "\n",
    "\n",
    "\n",
    "### Question 3/ Does the producing of movie is getting higher over the years ?\n",
    "\n",
    "> the plot looks skewed left perfectly, so the answer is:\n",
    "  Yes, the producing of movie is getting higher over the years.\n",
    "\n",
    "\n",
    "### Question 4/ Does the summer movies gets more revenues than the other seasons movies in average ?\n",
    "\n",
    "> the bars shows that the average of the all seasons movies is higher than the summer movies, so the answer is:\n",
    "  No,  the summer movies doesn't get more revenues than the other seasons movies in average."
   ]
  },
  {
   "cell_type": "code",
   "execution_count": null,
   "metadata": {},
   "outputs": [],
   "source": []
  }
 ],
 "metadata": {
  "kernelspec": {
   "display_name": "Python 3",
   "language": "python",
   "name": "python3"
  },
  "language_info": {
   "codemirror_mode": {
    "name": "ipython",
    "version": 3
   },
   "file_extension": ".py",
   "mimetype": "text/x-python",
   "name": "python",
   "nbconvert_exporter": "python",
   "pygments_lexer": "ipython3",
   "version": "3.7.3"
  }
 },
 "nbformat": 4,
 "nbformat_minor": 2
}
